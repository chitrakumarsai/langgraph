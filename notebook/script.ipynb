{
 "cells": [
  {
   "cell_type": "code",
   "execution_count": 43,
   "id": "dbe53741",
   "metadata": {},
   "outputs": [],
   "source": [
    "import random\n",
    "from typing import TypedDict\n",
    "from langgraph.graph import StateGraph, END\n",
    "import networkx as nx\n",
    "import matplotlib.pyplot as plt\n"
   ]
  },
  {
   "cell_type": "code",
   "execution_count": 44,
   "id": "68b2ceb0",
   "metadata": {},
   "outputs": [],
   "source": [
    "# Define state schema\n",
    "class MyState(TypedDict):\n",
    "    number: int\n",
    "    result: int\n",
    "# Define the nodes\n",
    "def generate_random_number(state):\n",
    "    return {\"number\": random.randint(1, 10)}\n",
    "\n",
    "def square_number(state):\n",
    "    number = state.get(\"number\")\n",
    "    if number is not None:\n",
    "        return {\"result\": number ** 2}\n",
    "    return {}"
   ]
  },
  {
   "cell_type": "code",
   "execution_count": 45,
   "id": "27b796c3",
   "metadata": {},
   "outputs": [],
   "source": [
    "# Create the graph\n",
    "graph = StateGraph(state_schema = MyState)"
   ]
  },
  {
   "cell_type": "code",
   "execution_count": 46,
   "id": "0ae16c59",
   "metadata": {},
   "outputs": [
    {
     "data": {
      "text/plain": [
       "<langgraph.graph.state.StateGraph at 0x124627e90>"
      ]
     },
     "execution_count": 46,
     "metadata": {},
     "output_type": "execute_result"
    }
   ],
   "source": [
    "# Add nodes\n",
    "graph.add_node(\"generate_number\", generate_random_number)\n",
    "graph.add_node(\"square_number\", square_number)\n"
   ]
  },
  {
   "cell_type": "code",
   "execution_count": 47,
   "id": "f00690bd",
   "metadata": {},
   "outputs": [
    {
     "data": {
      "text/plain": [
       "<langgraph.graph.state.StateGraph at 0x124627e90>"
      ]
     },
     "execution_count": 47,
     "metadata": {},
     "output_type": "execute_result"
    }
   ],
   "source": [
    "\n",
    "# Define edges\n",
    "graph.add_edge(\"generate_number\", \"square_number\")\n",
    "\n",
    "# Set the entry point\n",
    "graph.set_entry_point(\"generate_number\")\n",
    "graph.add_edge(\"square_number\", END)"
   ]
  },
  {
   "cell_type": "code",
   "execution_count": 48,
   "id": "75eb27f0",
   "metadata": {},
   "outputs": [],
   "source": [
    "# Compile the graph\n",
    "graph = graph.compile()"
   ]
  },
  {
   "cell_type": "code",
   "execution_count": 49,
   "id": "87809098",
   "metadata": {},
   "outputs": [
    {
     "name": "stdout",
     "output_type": "stream",
     "text": [
      "{'number': 10, 'result': 100}\n"
     ]
    }
   ],
   "source": [
    "output = graph.invoke({})\n",
    "print(output)"
   ]
  },
  {
   "cell_type": "code",
   "execution_count": 50,
   "id": "608e39de",
   "metadata": {},
   "outputs": [
    {
     "data": {
      "image/png": "[encoded data removed]",
      "text/plain": [
       "<IPython.core.display.Image object>"
      ]
     },
     "metadata": {},
     "output_type": "display_data"
    }
   ],
   "source": [
    "from IPython.display import Image, display\n",
    "\n",
    "try:\n",
    "    display(Image(graph.get_graph().draw_mermaid_png()))\n",
    "except Exception:\n",
    "    # This requires some extra dependencies and is optional\n",
    "    pass"
   ]
  },
  {
   "cell_type": "code",
   "execution_count": 55,
   "id": "b2d9d354",
   "metadata": {},
   "outputs": [
    {
     "data": {
      "image/png": "[encoded data removed]",
      "text/plain": [
       "<IPython.core.display.Image object>"
      ]
     },
     "metadata": {},
     "output_type": "display_data"
    }
   ],
   "source": [
    "from langgraph.graph import StateGraph, END\n",
    "from IPython.display import Image, display\n",
    "\n",
    "# 1. Define your state class\n",
    "class State:\n",
    "    def __init__(self, step=None, data=None, results=None):\n",
    "        self.step = step\n",
    "        self.data = data\n",
    "        self.results = results\n",
    "\n",
    "# 2. Define node functions\n",
    "def analyze(state):\n",
    "    print(\"Analyzing...\")\n",
    "    return State(step=\"search\", data=state.data)\n",
    "\n",
    "def search(state):\n",
    "    print(\"Searching...\")\n",
    "    if state.data == \"retry\":\n",
    "        return State(step=\"analyze\", results=None)\n",
    "    else:\n",
    "        return State(step=\"respond\", results=\"found\")\n",
    "\n",
    "def respond(state):\n",
    "    print(\"Responding...\")\n",
    "    return State(step=END)\n",
    "\n",
    "# 3. Build the graph\n",
    "builder = StateGraph(State)\n",
    "builder.add_node(\"analyze\", analyze)\n",
    "builder.add_node(\"search\", search)\n",
    "builder.add_node(\"respond\", respond)\n",
    "\n",
    "# 4. Define edge from analyze → search\n",
    "builder.add_edge(\"analyze\", \"search\")\n",
    "\n",
    "# 5. Add conditional edge from search\n",
    "def should_continue(state):\n",
    "    return \"respond\" if state.results else \"analyze\"\n",
    "\n",
    "builder.add_conditional_edges(\"search\", should_continue, {\n",
    "    \"respond\": \"respond\",\n",
    "    \"analyze\": \"analyze\"\n",
    "})\n",
    "\n",
    "# 6. Entry and compile\n",
    "builder.set_entry_point(\"analyze\")\n",
    "graph = builder.compile()\n",
    "\n",
    "# 7. Visualize\n",
    "try:\n",
    "    display(Image(graph.get_graph().draw_mermaid_png()))\n",
    "except Exception as e:\n",
    "    print(\"Graph rendering failed:\", e)"
   ]
  },
  {
   "cell_type": "code",
   "execution_count": null,
   "id": "94297527",
   "metadata": {},
   "outputs": [],
   "source": []
  }
 ],
 "metadata": {
  "kernelspec": {
   "display_name": "langgraph",
   "language": "python",
   "name": "python3"
  },
  "language_info": {
   "codemirror_mode": {
    "name": "ipython",
    "version": 3
   },
   "file_extension": ".py",
   "mimetype": "text/x-python",
   "name": "python",
   "nbconvert_exporter": "python",
   "pygments_lexer": "ipython3",
   "version": "3.11.0"
  }
 },
 "nbformat": 4,
 "nbformat_minor": 5
}
